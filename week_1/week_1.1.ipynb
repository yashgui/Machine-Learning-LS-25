{
 "cells": [
  {
   "cell_type": "code",
   "execution_count": 1,
   "id": "a1429d1d",
   "metadata": {},
   "outputs": [
    {
     "data": {
      "text/plain": [
       "array([[30, 14,  5,  6],\n",
       "       [ 9, 29, 25, 50],\n",
       "       [30,  1, 26,  7],\n",
       "       [33,  8,  1, 44],\n",
       "       [ 2, 25, 19, 50]])"
      ]
     },
     "execution_count": 1,
     "metadata": {},
     "output_type": "execute_result"
    }
   ],
   "source": [
    "import numpy as np\n",
    "a = np.random.randint(1,51,size=(5,4))\n",
    "a "
   ]
  },
  {
   "cell_type": "code",
   "execution_count": 2,
   "id": "a66f0e9f",
   "metadata": {},
   "outputs": [
    {
     "data": {
      "text/plain": [
       "array([ 6., 25.,  1., 33.])"
      ]
     },
     "execution_count": 2,
     "metadata": {},
     "output_type": "execute_result"
    }
   ],
   "source": [
    "def anti_diag(arr):\n",
    "    ans = np.array([])\n",
    "    i=0\n",
    "    while i < min(arr.shape):\n",
    "        ans = np.concatenate((ans,arr[i,-(i+1)]),axis=None)\n",
    "        i+=1\n",
    "    return ans\n",
    "\n",
    "anti_diag(a)"
   ]
  },
  {
   "cell_type": "code",
   "execution_count": 3,
   "id": "00b8540d",
   "metadata": {},
   "outputs": [
    {
     "data": {
      "text/plain": [
       "array([14,  5,  6,  9,  1,  7,  8,  1,  2, 19])"
      ]
     },
     "execution_count": 3,
     "metadata": {},
     "output_type": "execute_result"
    }
   ],
   "source": [
    "b = a[a<a.mean()]\n",
    "b "
   ]
  },
  {
   "cell_type": "code",
   "execution_count": 4,
   "id": "08b5a8e8",
   "metadata": {},
   "outputs": [
    {
     "data": {
      "text/plain": [
       "[30, 14, 5, 6, 50, 7, 44, 50, 19, 25, 2, 33, 30, 9]"
      ]
     },
     "execution_count": 4,
     "metadata": {},
     "output_type": "execute_result"
    }
   ],
   "source": [
    "def numpy_boundary_traversal(matrix):\n",
    "    r, c = matrix.shape\n",
    "    top = matrix[0, :]\n",
    "    right = matrix[1:r, -1]\n",
    "    bottom = matrix[-1, -2::-1] if r > 1 else []\n",
    "    left = matrix[r-2:0:-1, 0] if c > 1 else []\n",
    "    return list(np.concatenate((top, right, bottom, left)))\n",
    "numpy_boundary_traversal(a)\n"
   ]
  }
 ],
 "metadata": {
  "kernelspec": {
   "display_name": "base",
   "language": "python",
   "name": "python3"
  },
  "language_info": {
   "codemirror_mode": {
    "name": "ipython",
    "version": 3
   },
   "file_extension": ".py",
   "mimetype": "text/x-python",
   "name": "python",
   "nbconvert_exporter": "python",
   "pygments_lexer": "ipython3",
   "version": "3.12.7"
  }
 },
 "nbformat": 4,
 "nbformat_minor": 5
}
