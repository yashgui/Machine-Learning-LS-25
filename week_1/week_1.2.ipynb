{
 "cells": [
  {
   "cell_type": "code",
   "execution_count": 1,
   "id": "13a0ae91",
   "metadata": {},
   "outputs": [],
   "source": [
    "import numpy as np"
   ]
  },
  {
   "cell_type": "code",
   "execution_count": 2,
   "id": "30faec69",
   "metadata": {},
   "outputs": [
    {
     "data": {
      "text/plain": [
       "array([4.1 , 2.31, 9.2 , 6.32, 6.23, 9.84, 7.86, 8.33, 9.85, 9.15, 1.32,\n",
       "       9.71, 9.78, 5.9 , 1.83, 2.91, 5.2 , 9.56, 5.06, 4.1 ])"
      ]
     },
     "execution_count": 2,
     "metadata": {},
     "output_type": "execute_result"
    }
   ],
   "source": [
    "a = np.random.uniform(1,10,20)\n",
    "a = np.round(a,2)\n",
    "a"
   ]
  },
  {
   "cell_type": "code",
   "execution_count": 3,
   "id": "1422ef26",
   "metadata": {},
   "outputs": [
    {
     "name": "stdout",
     "output_type": "stream",
     "text": [
      "min of array: 1.32\n",
      "max of array: 9.85\n",
      "median of array: 6.28\n"
     ]
    }
   ],
   "source": [
    "print(f'min of array: {a.min()}\\nmax of array: {a.max()}\\nmedian of array: {np.median(a).round(2)}')"
   ]
  },
  {
   "cell_type": "code",
   "execution_count": 4,
   "id": "3e8d1676",
   "metadata": {},
   "outputs": [
    {
     "data": {
      "text/plain": [
       "array([16.81,  5.34,  9.2 ,  6.32,  6.23,  9.84,  7.86,  8.33,  9.85,\n",
       "        9.15,  1.74,  9.71,  9.78,  5.9 ,  3.35,  8.47,  5.2 ,  9.56,\n",
       "        5.06, 16.81])"
      ]
     },
     "execution_count": 4,
     "metadata": {},
     "output_type": "execute_result"
    }
   ],
   "source": [
    "a = np.where(a<5,a**2,a)\n",
    "a= a.round(2)\n",
    "a "
   ]
  },
  {
   "cell_type": "code",
   "execution_count": 5,
   "id": "3adbfd31",
   "metadata": {},
   "outputs": [
    {
     "data": {
      "text/plain": [
       "array([ 1.74, 16.81,  3.35, 16.81,  5.06,  9.85,  5.2 ,  9.84,  5.34,\n",
       "        9.78,  5.9 ,  9.71,  6.23,  9.56,  6.32,  9.2 ,  7.86,  9.15,\n",
       "        8.33,  8.47])"
      ]
     },
     "execution_count": 5,
     "metadata": {},
     "output_type": "execute_result"
    }
   ],
   "source": [
    "def numpy_alternate_sort(array):\n",
    "    sorted_arr = np.sort(array)\n",
    "    result = []\n",
    "    i, j = 0, len(sorted_arr) - 1\n",
    "    while i <= j:\n",
    "        result.append(sorted_arr[i])\n",
    "        if i != j:\n",
    "            result.append(sorted_arr[j])\n",
    "        i += 1\n",
    "        j -= 1\n",
    "    return np.array(result)\n",
    "numpy_alternate_sort(a)"
   ]
  }
 ],
 "metadata": {
  "kernelspec": {
   "display_name": "base",
   "language": "python",
   "name": "python3"
  },
  "language_info": {
   "codemirror_mode": {
    "name": "ipython",
    "version": 3
   },
   "file_extension": ".py",
   "mimetype": "text/x-python",
   "name": "python",
   "nbconvert_exporter": "python",
   "pygments_lexer": "ipython3",
   "version": "3.12.7"
  }
 },
 "nbformat": 4,
 "nbformat_minor": 5
}
